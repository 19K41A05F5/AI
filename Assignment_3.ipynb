{
  "nbformat": 4,
  "nbformat_minor": 0,
  "metadata": {
    "colab": {
      "name": "Assignment 3.ipynb",
      "provenance": [],
      "authorship_tag": "ABX9TyNgslM49LFbxOTBrBZtQ4I/",
      "include_colab_link": true
    },
    "kernelspec": {
      "name": "python3",
      "display_name": "Python 3"
    },
    "language_info": {
      "name": "python"
    }
  },
  "cells": [
    {
      "cell_type": "markdown",
      "metadata": {
        "id": "view-in-github",
        "colab_type": "text"
      },
      "source": [
        "<a href=\"https://colab.research.google.com/github/19K41A05F5/AI/blob/main/Assignment_3.ipynb\" target=\"_parent\"><img src=\"https://colab.research.google.com/assets/colab-badge.svg\" alt=\"Open In Colab\"/></a>"
      ]
    },
    {
      "cell_type": "code",
      "metadata": {
        "colab": {
          "base_uri": "https://localhost:8080/"
        },
        "id": "vg0lOofZe2Fk",
        "outputId": "fc2bbf22-cd52-4930-a5dd-280f3933f05f"
      },
      "source": [
        "import numpy as np\n",
        "import math\n",
        "x=np.random.uniform(-10,10)\n",
        "y=np.random.uniform(-10,10)\n",
        "eta=0.1\n",
        "iter_max=100\n",
        "iter=1\n",
        "while iter<=iter_max :\n",
        " slope_x=6*x\n",
        " slope_y=-5*(math.exp(-y))\n",
        " steplength_x=-eta*slope_x\n",
        " steplength_y=-eta*slope_y\n",
        " x=x+steplength_x\n",
        " y=y+steplength_y\n",
        " iter=iter+1\n",
        "obj=3*x*x+5*(math.exp(-y))+10\n",
        "print(\"objective function = \",round(obj),\"at x=\",round(x),\", y=\",round(y))"
      ],
      "execution_count": 4,
      "outputs": [
        {
          "output_type": "stream",
          "name": "stdout",
          "text": [
            "objective function =  10 at x= 0 , y= 4\n"
          ]
        }
      ]
    }
  ]
}